{
 "cells": [
  {
   "cell_type": "markdown",
   "metadata": {},
   "source": [
    "# Modules"
   ]
  },
  {
   "cell_type": "code",
   "execution_count": 1,
   "metadata": {},
   "outputs": [],
   "source": [
    "#Importación de biblioteca numpy y renombrarla como np. Esta biblioteca \n",
    "# nos permitira trabajar con arreglos multidimensionales.\n",
    "import numpy as np \n",
    "#Importación de biblioteca pandas y renombrarla como pd. Esta biblioteca \n",
    "# nos ayuda a manipular a analizar datos estructurados como DataFrames. \n",
    "# Un DF es como una tabla de excel.\n",
    "import pandas as pd\n",
    "#Importación de biblioteca math. Esta nos ayuda a utilizar funciones \n",
    "# matemáticas básicas.\n",
    "import math\n",
    "#La importación de plotly nos ayudará a poder utilizar objetos gráficos \n",
    "# como líneas, puntos y superficies.\n",
    "import plotly.graph_objects as go\n",
    "#Importar el módulo de distancia nos proporcionará funciones para poder \n",
    "# medir distancias en el espacio.\n",
    "from scipy.spatial import distance\n",
    "#Esta distribución (wrapcauchy) se utiliza para modelar ángulos o \n",
    "# direcciones en trayectorias, como en procesos estocásticos con giros.\n",
    "from scipy.stats import wrapcauchy\n",
    "#Al importar cauchy, podremos modelar datos que trabajan con colas pesadas, \n",
    "# específicamente nos va a servir para modelar CRW.\n",
    "from scipy.stats import cauchy\n",
    "#Con esta siguiente distribución podremos modelar datos con saltos grandes \n",
    "# e inesperados como el movimiento Browniano de Lévy.\n",
    "from scipy.stats import levy_stable"
   ]
  }
 ],
 "metadata": {
  "kernelspec": {
   "display_name": "Python 3",
   "language": "python",
   "name": "python3"
  },
  "language_info": {
   "codemirror_mode": {
    "name": "ipython",
    "version": 3
   },
   "file_extension": ".py",
   "mimetype": "text/x-python",
   "name": "python",
   "nbconvert_exporter": "python",
   "pygments_lexer": "ipython3",
   "version": "3.11.9"
  }
 },
 "nbformat": 4,
 "nbformat_minor": 2
}
