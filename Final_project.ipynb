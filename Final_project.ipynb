{
 "cells": [
  {
   "cell_type": "markdown",
   "metadata": {},
   "source": [
    "# Final Project - Dashboard"
   ]
  },
  {
   "cell_type": "markdown",
   "metadata": {},
   "source": [
    "## Monitoreo del ciclo hormonal"
   ]
  },
  {
   "cell_type": "markdown",
   "metadata": {},
   "source": [
    "## Modules"
   ]
  },
  {
   "cell_type": "code",
   "execution_count": 3,
   "metadata": {},
   "outputs": [],
   "source": [
    "# Importar bibliotecas necesarias\n",
    "import numpy as np          # Biblioteca para trabajar con arreglos y operaciones numéricas\n",
    "import pandas as pd         # Biblioteca para el manejo de datos en forma de tablas\n",
    "import matplotlib.pyplot as plt  # Biblioteca para crear visualizaciones gráficas\n",
    "import seaborn as sns       # Biblioteca basada en matplotlib para visualización estadística\n",
    "import panel as pn          # Biblioteca para crear aplicaciones interactivas\n",
    "import panel.widgets as pnw  # Importar widgets de Panel para interactividad"
   ]
  },
  {
   "cell_type": "code",
   "execution_count": null,
   "metadata": {},
   "outputs": [],
   "source": [
    "# Inicializar Panel\n",
    "pn.extension()  # Esta línea inicializa la funcionalidad de Panel"
   ]
  },
  {
   "cell_type": "markdown",
   "metadata": {},
   "source": [
    "# Data"
   ]
  },
  {
   "cell_type": "code",
   "execution_count": null,
   "metadata": {},
   "outputs": [],
   "source": [
    "# Generar datos ficticios\n",
    "np.random.seed(42)  # Establecer una semilla para reproducir resultados aleatorios\n",
    "data = {\n",
    "    'Age': np.random.randint(14, 55, size=100),   # Generar 100 edades aleatorias entre 14 y 54\n",
    "    'BMI': np.random.uniform(14, 40, size=100),   # Generar 100 valores de IMC aleatorios entre 14 y 40\n",
    "    'Pregnancies': np.random.randint(0, 6, size=100)  # Generar 100 números aleatorios de embarazos entre 0 y 5\n",
    "}"
   ]
  }
 ],
 "metadata": {
  "kernelspec": {
   "display_name": "Python 3",
   "language": "python",
   "name": "python3"
  },
  "language_info": {
   "codemirror_mode": {
    "name": "ipython",
    "version": 3
   },
   "file_extension": ".py",
   "mimetype": "text/x-python",
   "name": "python",
   "nbconvert_exporter": "python",
   "pygments_lexer": "ipython3",
   "version": "3.11.9"
  }
 },
 "nbformat": 4,
 "nbformat_minor": 2
}
