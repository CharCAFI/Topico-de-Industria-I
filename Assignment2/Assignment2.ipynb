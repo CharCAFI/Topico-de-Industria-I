{
 "cells": [
  {
   "cell_type": "markdown",
   "metadata": {},
   "source": [
    "# Modules"
   ]
  },
  {
   "cell_type": "code",
   "execution_count": 1,
   "metadata": {},
   "outputs": [],
   "source": [
    "#Importación de biblioteca numpy y renombrarla como np. Esta biblioteca \n",
    "# nos permitira trabajar con arreglos multidimensionales.\n",
    "import numpy as np \n",
    "#Importación de biblioteca pandas y renombrarla como pd. Esta biblioteca \n",
    "# nos ayuda a manipular a analizar datos estructurados como DataFrames. \n",
    "# Un DF es como una tabla de excel.\n",
    "import pandas as pd\n",
    "#Importación de biblioteca math. Esta nos ayuda a utilizar funciones \n",
    "# matemáticas básicas.\n",
    "import math\n",
    "#La importación de plotly nos ayudará a poder utilizar objetos gráficos \n",
    "# como líneas, puntos y superficies.\n",
    "import plotly.graph_objects as go\n",
    "#Importar el módulo de distancia nos proporcionará funciones para poder \n",
    "# medir distancias en el espacio.\n",
    "from scipy.spatial import distance\n",
    "#Esta distribución (wrapcauchy) se utiliza para modelar ángulos o \n",
    "# direcciones en trayectorias, como en procesos estocásticos con giros.\n",
    "from scipy.stats import wrapcauchy\n",
    "#Al importar cauchy, podremos modelar datos que trabajan con colas pesadas, \n",
    "# específicamente nos va a servir para modelar CRW.\n",
    "from scipy.stats import cauchy\n",
    "#Con esta siguiente distribución podremos modelar datos con saltos grandes \n",
    "# e inesperados como el movimiento Browniano de Lévy.\n",
    "from scipy.stats import levy_stable"
   ]
  },
  {
   "cell_type": "markdown",
   "metadata": {},
   "source": [
    "## Vec2dClass"
   ]
  },
  {
   "cell_type": "code",
   "execution_count": 2,
   "metadata": {},
   "outputs": [],
   "source": [
    "################# http://www.pygame.org/wiki/2DVectorClass ##################\n",
    "\n",
    "#Qué hace esta parte?\n",
    "#Estamos definiendo una clase llamada Vec2d, que hereda de \n",
    "# object, lo que es estándar en Python 2 y también compatible \n",
    "# con Python 3.\n",
    "\n",
    "#Función: Esta clase es un modelo de un vector en 2D y proporciona \n",
    "# soporte para operadores matemáticos como suma y resta y funciones \n",
    "# útiles para manipulaciones vectoriales.\n",
    "class Vec2d(object):\n",
    "    \"\"\"2d vector class, supports vector and scalar operators,\n",
    "       and also provides a bunch of high level functions\n",
    "       \"\"\"\n",
    "    #Esta siguiente línea __slots__ optimiza la memoria al defiir los \n",
    "    # atributos de la clase \"x\" y \"y\", restringiendo la creación de otros \n",
    "    # atributos. Esto es útil en aplicaciones de alta eficiencia, ya \n",
    "    # que evita el uso de un diccionario interno para almacenar atributos.\n",
    "    __slots__ = ['x', 'y']\n",
    "\n",
    "#Aquí vamos a inicializar un objeto de la clase Vec2d. __init__ es el \n",
    "# constructor que define cómo se crea un vector.\n",
    "#Los parámetros que vamos a usar son:\n",
    "#x_or_pair: Puede ser un par de valores, una lista, una tupla con dos \n",
    "# elementos o solo valor \"x\".\n",
    "#y: Es opcional. Si no se proporciona, x_or_pair debe ser un par; si \n",
    "# se proporcina, x_or_pair es tratado como el valor de \"x\" y \"y\", es el valor de \"y\".\n",
    "    def __init__(self, x_or_pair, y = None):\n",
    "        if y == None:            \n",
    "            self.x = x_or_pair[0]\n",
    "            self.y = x_or_pair[1]\n",
    "        else:\n",
    "            self.x = x_or_pair\n",
    "            self.y = y\n",
    "            \n",
    "    # Addition\n",
    "    #Si \"other\" es otro Vec2d, suma componente a componente, si \"other\" tiene un método __getitem__\n",
    "    # (es una lista o una tupla), suma los elementos correspondientes. Si \"other\" es un \n",
    "    # escalar, suma ese valor a ambos componentes \"x\" y \"y\".\n",
    "    def __add__(self, other):\n",
    "        if isinstance(other, Vec2d):\n",
    "            return Vec2d(self.x + other.x, self.y + other.y)\n",
    "        elif hasattr(other, \"__getitem__\"):\n",
    "            return Vec2d(self.x + other[0], self.y + other[1])\n",
    "        else:\n",
    "            return Vec2d(self.x + other, self.y + other)\n",
    "\n",
    "    # Subtraction\n",
    "    #Lo mismo que el anterior, pero resta en vez de sumar.\n",
    "    def __sub__(self, other):\n",
    "        if isinstance(other, Vec2d):\n",
    "            return Vec2d(self.x - other.x, self.y - other.y)\n",
    "        elif (hasattr(other, \"__getitem__\")):\n",
    "            return Vec2d(self.x - other[0], self.y - other[1])\n",
    "        else:\n",
    "            return Vec2d(self.x - other, self.y - other)\n",
    "    \n",
    "    # Vector length\n",
    "    #Esta parte servirá para calcular la longitud o magnitud del vector utilizando el teorema de pitágoras.\n",
    "    def get_length(self):\n",
    "        return math.sqrt(self.x**2 + self.y**2)\n",
    "    \n",
    "    # rotate vector\n",
    "    #Esta parte rota el vector por un ángulo dado en radianes.\n",
    "    def rotated(self, angle):        \n",
    "        cos = math.cos(angle)\n",
    "        sin = math.sin(angle)\n",
    "        x = self.x*cos - self.y*sin\n",
    "        y = self.x*sin + self.y*cos\n",
    "        return Vec2d(x, y)"
   ]
  },
  {
   "cell_type": "markdown",
   "metadata": {},
   "source": [
    "## Brownian Motion"
   ]
  },
  {
   "cell_type": "code",
   "execution_count": 3,
   "metadata": {},
   "outputs": [],
   "source": [
    "#Selecciona aleatoriamente un ángulo entre cuatro posibles valores: \n",
    "# 0, pi medios (90 grados), pi (180 grados) y 3 pi medios (270 grados). \n",
    "# Esta selección aleatoria se utiliza para determinar la dirección de \n",
    "# giro o rotación de un vector o movimieto en un plano bidimensional.\n",
    "turn_angle=np.random.choice([0,np.pi/2,np.pi,3*np.pi/2])"
   ]
  },
  {
   "cell_type": "code",
   "execution_count": 4,
   "metadata": {},
   "outputs": [],
   "source": [
    "#La función pd.read_csv() es una función de la librería de Pandas \n",
    "# que se utiliza para leer archivos CSV y convertirlos en un DataFrame de \n",
    "# Pandas. Se espera que el archivo esté en el mismo directorio desde \n",
    "# donde se está ejecutanto el script de Python. El resultado se guarda \n",
    "# en la variable: \"BM_2d_df_3\".\n",
    "BM_2d_df_3=pd.read_csv('brownian_3.csv')"
   ]
  }
 ],
 "metadata": {
  "kernelspec": {
   "display_name": "Python 3",
   "language": "python",
   "name": "python3"
  },
  "language_info": {
   "codemirror_mode": {
    "name": "ipython",
    "version": 3
   },
   "file_extension": ".py",
   "mimetype": "text/x-python",
   "name": "python",
   "nbconvert_exporter": "python",
   "pygments_lexer": "ipython3",
   "version": "3.11.9"
  }
 },
 "nbformat": 4,
 "nbformat_minor": 2
}
